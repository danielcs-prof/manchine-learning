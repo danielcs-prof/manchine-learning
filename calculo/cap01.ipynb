{
 "cells": [
  {
   "cell_type": "markdown",
   "id": "bd47411e-bfab-45a1-b10c-f81242c145c7",
   "metadata": {},
   "source": [
    "#CAPÍTULO 1 - FUNÇÕES, GRÁFICOS E LIMITES\n",
    "***\n",
    "\n",
    "##1.1 - Plano Cartesiano\n",
    "\n",
    "<p>\n",
    "    O plano cartesiano é um sistema de coordenadas bidimensional composto por duas retas perpendiculares entre si, chamadas de eixo x (horizontal) e eixo y (vertical), que se cruzam na origem (ponto de coordenadas (0,0)), dividindo o plano em quatro regiões chamadas quadrantes; nesse sistema, cada ponto é identificado por um par ordenado (x, y), onde x representa a distância horizontal em relação ao eixo y e y representa a distância vertical em relação ao eixo x, permitindo a representação gráfica de relações entre duas variáveis e a visualização de conceitos matemáticos fundamentais como distância, ponto médio e alinhamento.\n",
    "</p>"
   ]
  },
  {
   "cell_type": "code",
   "execution_count": null,
   "id": "e10ff60a-57ba-4902-9ac6-bc880fdf72c3",
   "metadata": {},
   "outputs": [],
   "source": [
    "# PALNO CARTEZIANO\n",
    "import numpy as np\n",
    "import matplotlib.pyplot as plt\n",
    "\n",
    "#1 - GERAR OU CARREGAR OS DADOS\n",
    "coordenadas = [(3,3), (-3,3), (-3,-3), (3,-3)]\n",
    "x = [ponto[0] for ponto in coordenadas]\n",
    "y = [ponto[1] for ponto in coordenadas]\n",
    "\n",
    "#2 - CÁLCULO\n",
    "\n",
    "#3 - CRIA O GRÁFICOS E EIXOS\n",
    "fig, ax = plt.subplots( figsize=(6,6) )\n",
    "\n",
    "#4 - TITULO E LEGENDA\n",
    "plt.title('Plano Cartesiano')\n",
    "\n",
    "#5 - CONFIGURA OS EIXOS\n",
    "ax.spines['top'].set_color('none')         # oculta o eixo top\n",
    "ax.spines['right'].set_color('none')       # oculta o eixo right\n",
    "ax.spines['left'].set_position('zero')     # desloca o eixo para o ponto 0\n",
    "ax.spines['bottom'].set_position('zero')   # desloca o eixo para o ponto 0\n",
    "ax.set_xlabel('Eixo x', x=0.95)            # atribui e posiciona o nome ao eixo\n",
    "ax.set_ylabel('Eixo y', y=0.95)            # atribui e posiciona o nome ao eixo \n",
    "ax.plot(1, 0, \">k\", transform=ax.get_yaxis_transform(), clip_on=False) # atribui seta ao eixo X\n",
    "ax.plot(0, 1, \"^k\", transform=ax.get_xaxis_transform(), clip_on=False) # atribui seta ao eixo Y\n",
    "\n",
    "#6 - CONFIGURAÇÃO DO GRID\n",
    "valor_max = max(np.max(x),np.max(y)) + 3    # localiza o maio valo de X e Y e depois de ambos\n",
    "ax.set_xlim(-valor_max,valor_max)           # define o limite inferior e superior do eixo X\n",
    "ax.set_ylim(-valor_max,valor_max)           # define o limite inferior e superior do eixo Y\n",
    "ax.set_xticks(np.arange(-valor_max,valor_max,1))\n",
    "ax.set_yticks(np.arange(-valor_max,valor_max,1))\n",
    "ax.grid(True, linestyle='--')              # habilita o grid\n",
    "\n",
    "#6 - PLOTAR OS DADOS\n",
    "ax.scatter(x,y)                             # plota gráfico e dispersão (pontos isolados)\n",
    "for i, ponto in enumerate(coordenadas):\n",
    "    plt.text(ponto[0]+0.2,ponto[1]+0.2, f'({ponto[0]},{ponto[1]})')\n",
    "    plt.text(ponto[0]-1,ponto[1]-1, f'Quadrante {i+1}')\n",
    "    \n",
    "#7 - EXIBIR OS GRÁFICOS\n",
    "plt.show()\n",
    "\n",
    "#8 - EXIBIR RESULTADO NO CONSOLE\n",
    "print()\n",
    "print(f'Coordenada X: {x}')\n",
    "print(f'Coordenada Y: {y}')\n",
    "print()\n"
   ]
  }
 ],
 "metadata": {
  "kernelspec": {
   "display_name": "Python 3 (ipykernel)",
   "language": "python",
   "name": "python3"
  },
  "language_info": {
   "codemirror_mode": {
    "name": "ipython",
    "version": 3
   },
   "file_extension": ".py",
   "mimetype": "text/x-python",
   "name": "python",
   "nbconvert_exporter": "python",
   "pygments_lexer": "ipython3",
   "version": "3.13.5"
  }
 },
 "nbformat": 4,
 "nbformat_minor": 5
}
