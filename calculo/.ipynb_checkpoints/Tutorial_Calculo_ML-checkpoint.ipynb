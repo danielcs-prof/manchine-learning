{
 "cells": [
  {
   "cell_type": "markdown",
   "id": "edcf2f25",
   "metadata": {},
   "source": [
    "# 🧠 Tutorial: Cálculo com Python Aplicado à Machine Learning"
   ]
  },
  {
   "cell_type": "markdown",
   "id": "7c001210",
   "metadata": {},
   "source": [
    "## 1. Funções Lineares e Não Lineares"
   ]
  },
  {
   "cell_type": "markdown",
   "id": "cc8b5944",
   "metadata": {},
   "source": [
    "**Contexto real:** Modelos de regressão linear e funções de ativação não lineares."
   ]
  },
  {
   "cell_type": "code",
   "execution_count": null,
   "id": "f668fffc",
   "metadata": {},
   "outputs": [],
   "source": [
    "\n",
    "import numpy as np\n",
    "import matplotlib.pyplot as plt\n",
    "\n",
    "x = np.linspace(-5, 5, 100)\n",
    "y_linear = 2 * x + 1\n",
    "y_nonlinear = x**2 + 1\n",
    "\n",
    "plt.figure()\n",
    "plt.plot(x, y_linear, label='Linear: f(x)=2x+1')\n",
    "plt.plot(x, y_nonlinear, label='Não-linear: f(x)=x²+1')\n",
    "plt.title('Funções Linear vs Não Linear')\n",
    "plt.xlabel('x')\n",
    "plt.ylabel('f(x)')\n",
    "plt.grid(True)\n",
    "plt.legend()\n",
    "plt.tight_layout()\n",
    "plt.show()\n"
   ]
  },
  {
   "cell_type": "markdown",
   "id": "4c839ed8",
   "metadata": {},
   "source": [
    "## 2. Limites"
   ]
  },
  {
   "cell_type": "markdown",
   "id": "123f9a25",
   "metadata": {},
   "source": [
    "**Contexto real:** Analisar o comportamento de funções de ativação ou custo próximo de valores específicos."
   ]
  },
  {
   "cell_type": "code",
   "execution_count": null,
   "id": "547ccb84",
   "metadata": {},
   "outputs": [],
   "source": [
    "\n",
    "from sympy import symbols, sin, limit, lambdify\n",
    "\n",
    "x = symbols('x')\n",
    "f = sin(x) / x\n",
    "limite = limit(f, x, 0)\n",
    "print(\"Limite:\", limite)\n",
    "\n",
    "# Gráfico\n",
    "import numpy as np\n",
    "import matplotlib.pyplot as plt\n",
    "f_np = lambdify(x, f, 'numpy')\n",
    "x_vals = np.linspace(-0.1, 0.1, 400)\n",
    "y_vals = f_np(x_vals)\n",
    "\n",
    "plt.figure()\n",
    "plt.plot(x_vals, y_vals, label='f(x) = sin(x)/x')\n",
    "plt.axhline(y=float(limite), color='red', linestyle='--', label=f'Limite = {limite}')\n",
    "plt.title('Limite de sin(x)/x quando x → 0')\n",
    "plt.grid(True)\n",
    "plt.legend()\n",
    "plt.tight_layout()\n",
    "plt.show()\n"
   ]
  },
  {
   "cell_type": "markdown",
   "id": "62313cbf",
   "metadata": {},
   "source": [
    "## 3. Derivadas"
   ]
  },
  {
   "cell_type": "markdown",
   "id": "eea7047b",
   "metadata": {},
   "source": [
    "**Contexto real:** Usadas no cálculo do gradiente para otimizar funções de custo em modelos de machine learning."
   ]
  },
  {
   "cell_type": "code",
   "execution_count": null,
   "id": "9220d14e",
   "metadata": {},
   "outputs": [],
   "source": [
    "\n",
    "from sympy import diff\n",
    "\n",
    "x = symbols('x')\n",
    "f = x**2\n",
    "df = diff(f, x)\n",
    "print(\"Derivada:\", df)\n",
    "\n",
    "f_lamb = lambdify(x, f, 'numpy')\n",
    "df_lamb = lambdify(x, df, 'numpy')\n",
    "x_vals = np.linspace(-3, 3, 300)\n",
    "plt.figure()\n",
    "plt.plot(x_vals, f_lamb(x_vals), label='f(x) = x²')\n",
    "plt.plot(x_vals, df_lamb(x_vals), '--', label=\"f'(x) = 2x\")\n",
    "plt.title('Função de Custo e sua Derivada')\n",
    "plt.xlabel('x')\n",
    "plt.ylabel(\"f(x), f'(x)\")\n",
    "plt.legend()\n",
    "plt.grid(True)\n",
    "plt.tight_layout()\n",
    "plt.show()\n"
   ]
  },
  {
   "cell_type": "markdown",
   "id": "05f6a8c1",
   "metadata": {},
   "source": [
    "## 4. Integrais"
   ]
  },
  {
   "cell_type": "markdown",
   "id": "e051acb6",
   "metadata": {},
   "source": [
    "**Contexto real:** Calcular áreas sob curvas de probabilidade ou funções de perda acumuladas."
   ]
  },
  {
   "cell_type": "code",
   "execution_count": null,
   "id": "d0a531c4",
   "metadata": {},
   "outputs": [],
   "source": [
    "\n",
    "from scipy.integrate import quad\n",
    "import numpy as np\n",
    "\n",
    "f = lambda x: np.exp(-x**2)\n",
    "area, _ = quad(f, -1, 1)\n",
    "print(\"Área sob a curva:\", area)\n",
    "\n",
    "x_vals = np.linspace(-3, 3, 300)\n",
    "y_vals = f(x_vals)\n",
    "plt.figure()\n",
    "plt.plot(x_vals, y_vals, label='f(x) = exp(-x²)')\n",
    "plt.fill_between(x_vals, y_vals, where=((-1 <= x_vals) & (x_vals <= 1)), alpha=0.3, label='Área integrada')\n",
    "plt.title('Área sob a curva de exp(-x²)')\n",
    "plt.grid(True)\n",
    "plt.legend()\n",
    "plt.tight_layout()\n",
    "plt.show()\n"
   ]
  },
  {
   "cell_type": "markdown",
   "id": "344fde6a",
   "metadata": {},
   "source": [
    "## 5. Derivadas Parciais"
   ]
  },
  {
   "cell_type": "markdown",
   "id": "f2a53778",
   "metadata": {},
   "source": [
    "**Contexto real:** Cálculo de gradientes em funções de erro com múltiplas variáveis."
   ]
  },
  {
   "cell_type": "code",
   "execution_count": null,
   "id": "1e1b156a",
   "metadata": {},
   "outputs": [],
   "source": [
    "\n",
    "from sympy import symbols, diff, lambdify\n",
    "import numpy as np\n",
    "import matplotlib.pyplot as plt\n",
    "\n",
    "x, y = symbols('x y')\n",
    "f = x**2 * y + y**3\n",
    "df_dx = diff(f, x)\n",
    "df_dy = diff(f, y)\n",
    "print(\"∂f/∂x:\", df_dx)\n",
    "print(\"∂f/∂y:\", df_dy)\n",
    "\n",
    "# Gráfico da função\n",
    "f_lamb = lambdify((x, y), f, 'numpy')\n",
    "x_vals = np.linspace(-2, 2, 100)\n",
    "y_vals = np.linspace(-2, 2, 100)\n",
    "X, Y = np.meshgrid(x_vals, y_vals)\n",
    "Z = f_lamb(X, Y)\n",
    "\n",
    "plt.figure()\n",
    "cp = plt.contourf(X, Y, Z, levels=30, cmap='viridis')\n",
    "plt.colorbar(cp)\n",
    "plt.title('Função f(x, y) = x²y + y³')\n",
    "plt.xlabel('x')\n",
    "plt.ylabel('y')\n",
    "plt.tight_layout()\n",
    "plt.show()\n"
   ]
  }
 ],
 "metadata": {
  "language": "python"
 },
 "nbformat": 4,
 "nbformat_minor": 5
}