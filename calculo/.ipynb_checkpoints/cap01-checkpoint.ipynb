{
 "cells": [
  {
   "cell_type": "code",
   "execution_count": 56,
   "id": "1d326c79-70b6-4852-89c4-14d131a844a2",
   "metadata": {},
   "outputs": [
    {
     "data": {
      "image/png": "[encoded data removed]",
      "text/plain": [
       "<Figure size 600x600 with 1 Axes>"
      ]
     },
     "metadata": {},
     "output_type": "display_data"
    },
    {
     "name": "stdout",
     "output_type": "stream",
     "text": [
      "\n",
      "Coordenada X: [3, -3, -3, 3]\n",
      "Coordenada Y: [3, 3, -3, -3]\n",
      "\n"
     ]
    }
   ],
   "source": [
    "# PALNO CARTEZIANO\n",
    "import numpy as np\n",
    "import matplotlib.pyplot as plt\n",
    "\n",
    "#1 - GERAR OU CARREGAR OS DADOS\n",
    "coordenadas = [(3,3), (-3,3), (-3,-3), (3,-3)]\n",
    "x = [ponto[0] for ponto in coordenadas]\n",
    "y = [ponto[1] for ponto in coordenadas]\n",
    "\n",
    "#2 - CÁLCULO\n",
    "\n",
    "#3 - CRIA O GRÁFICOS E EIXOS\n",
    "fig, ax = plt.subplots( figsize=(6,6) )\n",
    "\n",
    "#4 - CONFIGURA OS EIXOS\n",
    "plt.title('Plano Cartesiano')\n",
    "ax.spines['top'].set_color('none')         # oculta o eixo top\n",
    "ax.spines['right'].set_color('none')       # oculta o eixo right\n",
    "ax.spines['left'].set_position('zero')     # desloca o eixo para o ponto 0\n",
    "ax.spines['bottom'].set_position('zero')   # desloca o eixo para o ponto 0\n",
    "ax.grid(True)                              # habilita o grid\n",
    "ax.set_xlabel('Eixo x', x=0.95)            # atribui e posiciona o nome ao eixo\n",
    "ax.set_ylabel('Eixo y', y=0.95)            # atribui e posiciona o nome ao eixo \n",
    "ax.plot(1, 0, \">k\", transform=ax.get_yaxis_transform(), clip_on=False) # atribui seta ao eixo X\n",
    "ax.plot(0, 1, \"^k\", transform=ax.get_xaxis_transform(), clip_on=False) # atribui seta ao eixo Y\n",
    "\n",
    "\n",
    "#5 - PLOTAR OS DADOS\n",
    "ax\n",
    "ax.scatter(x,y)   # plota gráfico e dispersão (pontos isolados)\n",
    "\n",
    "#6 - EXIBIR OS GRÁFICOS\n",
    "plt.show()\n",
    "\n",
    "#7 - EXIBIR RESULTADO NO CONSOLE\n",
    "print()\n",
    "print(f'Coordenada X: {x}')\n",
    "print(f'Coordenada Y: {y}')\n",
    "print()\n"
   ]
  },
  {
   "cell_type": "code",
   "execution_count": null,
   "id": "6623de5e-63d6-4dbb-a6e9-b031e08007c6",
   "metadata": {},
   "outputs": [],
   "source": []
  }
 ],
 "metadata": {
  "kernelspec": {
   "display_name": "Python 3 (ipykernel)",
   "language": "python",
   "name": "python3"
  },
  "language_info": {
   "codemirror_mode": {
    "name": "ipython",
    "version": 3
   },
   "file_extension": ".py",
   "mimetype": "text/x-python",
   "name": "python",
   "nbconvert_exporter": "python",
   "pygments_lexer": "ipython3",
   "version": "3.13.5"
  }
 },
 "nbformat": 4,
 "nbformat_minor": 5
}
