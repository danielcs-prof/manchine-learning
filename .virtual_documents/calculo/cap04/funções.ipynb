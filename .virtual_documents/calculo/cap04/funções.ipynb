import numpy as np
import matplotlib.pyplot as plt

# Definindo a relação matemática de uma reta: f(x) = mx + b
def f(x,m,b):
    return m*x + b

# Gerando valores para variável independete x
x = np.arange(-5,6,1)

# Gerando os valores da variável dependente
m = 1; b = 0;
y1 = f(x,m,b)

# Criando a fig e eixos
fig, ax = plt.subplots(3,1,figsize=(5,5))

ax[0].plot(x,y1)
ax[0].grid(True)
ax[0].set_title("Equação Linear")

plt.tight_layout()
plt.show()




